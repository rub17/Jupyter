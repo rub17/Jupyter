{
 "cells": [
  {
   "cell_type": "code",
   "execution_count": 61,
   "metadata": {},
   "outputs": [],
   "source": [
    "query=\"\"\"\n",
    "SELECT\n",
    "  primary_type,\n",
    "  timestamp AS time,\n",
    "  clearance_status AS clr,\n",
    "  location,\n",
    "  zipcode,\n",
    "  year\n",
    "FROM\n",
    "  `bigquery-public-data.austin_crime.crime`\n",
    "ORDER BY \n",
    "  time\n",
    "\"\"\"\n",
    "import google.cloud.bigquery as bq\n",
    "import pandas as pd\n",
    "import numpy as np\n",
    "import matplotlib.pyplot as plt\n",
    "client = bq.Client()"
   ]
  },
  {
   "cell_type": "markdown",
   "metadata": {},
   "source": [
    "# Preview the dataset."
   ]
  },
  {
   "cell_type": "code",
   "execution_count": 16,
   "metadata": {},
   "outputs": [],
   "source": [
    "dataset_ref = client.dataset('austin_crime', project = 'bigquery-public-data' ) "
   ]
  },
  {
   "cell_type": "code",
   "execution_count": 19,
   "metadata": {},
   "outputs": [],
   "source": [
    "dataset = client.get_dataset(dataset_ref)"
   ]
  },
  {
   "cell_type": "code",
   "execution_count": 20,
   "metadata": {
    "scrolled": false
   },
   "outputs": [
    {
     "name": "stdout",
     "output_type": "stream",
     "text": [
      "crime\n"
     ]
    }
   ],
   "source": [
    "tables = list(client.list_tables(dataset))\n",
    "for table in tables:  \n",
    "    print(table.table_id)"
   ]
  },
  {
   "cell_type": "code",
   "execution_count": 21,
   "metadata": {},
   "outputs": [],
   "source": [
    "table_ref = dataset_ref.table(\"crime\")"
   ]
  },
  {
   "cell_type": "code",
   "execution_count": 22,
   "metadata": {},
   "outputs": [],
   "source": [
    "table = client.get_table(table_ref)"
   ]
  },
  {
   "cell_type": "code",
   "execution_count": 23,
   "metadata": {},
   "outputs": [
    {
     "data": {
      "text/plain": [
       "[SchemaField('unique_key', 'INTEGER', 'NULLABLE', 'Unique identifier for the record.', ()),\n",
       " SchemaField('address', 'STRING', 'NULLABLE', 'Full address where the incident occurred.', ()),\n",
       " SchemaField('census_tract', 'FLOAT', 'NULLABLE', '', ()),\n",
       " SchemaField('clearance_date', 'TIMESTAMP', 'NULLABLE', '', ()),\n",
       " SchemaField('clearance_status', 'STRING', 'NULLABLE', '', ()),\n",
       " SchemaField('council_district_code', 'INTEGER', 'NULLABLE', 'Indicates the council district code where the incident occurred.', ()),\n",
       " SchemaField('description', 'STRING', 'NULLABLE', 'The subcategory of the primary description.', ()),\n",
       " SchemaField('district', 'STRING', 'NULLABLE', 'Indicates the police district where the incident occurred.', ()),\n",
       " SchemaField('latitude', 'FLOAT', 'NULLABLE', '', ()),\n",
       " SchemaField('longitude', 'FLOAT', 'NULLABLE', '', ()),\n",
       " SchemaField('location', 'STRING', 'NULLABLE', '', ()),\n",
       " SchemaField('location_description', 'STRING', 'NULLABLE', 'Description of the location where the incident occurred.', ()),\n",
       " SchemaField('primary_type', 'STRING', 'NULLABLE', 'The primary description of the NIBRS/UCR code.', ()),\n",
       " SchemaField('timestamp', 'TIMESTAMP', 'NULLABLE', 'Time when the incident occurred. This is sometimes a best estimate.', ()),\n",
       " SchemaField('x_coordinate', 'INTEGER', 'NULLABLE', 'The x coordinate of the location where the incident occurred', ()),\n",
       " SchemaField('y_coordinate', 'INTEGER', 'NULLABLE', 'The y coordinate of the location where the incident occurred', ()),\n",
       " SchemaField('year', 'INTEGER', 'NULLABLE', 'Indicates the year in which the incident occurred.', ()),\n",
       " SchemaField('zipcode', 'STRING', 'NULLABLE', 'Indicates the zipcode where the incident occurred.', ())]"
      ]
     },
     "execution_count": 23,
     "metadata": {},
     "output_type": "execute_result"
    }
   ],
   "source": [
    "table.schema"
   ]
  },
  {
   "cell_type": "code",
   "execution_count": 24,
   "metadata": {},
   "outputs": [
    {
     "data": {
      "text/html": [
       "<div>\n",
       "<style scoped>\n",
       "    .dataframe tbody tr th:only-of-type {\n",
       "        vertical-align: middle;\n",
       "    }\n",
       "\n",
       "    .dataframe tbody tr th {\n",
       "        vertical-align: top;\n",
       "    }\n",
       "\n",
       "    .dataframe thead th {\n",
       "        text-align: right;\n",
       "    }\n",
       "</style>\n",
       "<table border=\"1\" class=\"dataframe\">\n",
       "  <thead>\n",
       "    <tr style=\"text-align: right;\">\n",
       "      <th></th>\n",
       "      <th>unique_key</th>\n",
       "      <th>address</th>\n",
       "      <th>census_tract</th>\n",
       "      <th>clearance_date</th>\n",
       "      <th>clearance_status</th>\n",
       "      <th>council_district_code</th>\n",
       "      <th>description</th>\n",
       "      <th>district</th>\n",
       "      <th>latitude</th>\n",
       "      <th>longitude</th>\n",
       "      <th>location</th>\n",
       "      <th>location_description</th>\n",
       "      <th>primary_type</th>\n",
       "      <th>timestamp</th>\n",
       "      <th>x_coordinate</th>\n",
       "      <th>y_coordinate</th>\n",
       "      <th>year</th>\n",
       "      <th>zipcode</th>\n",
       "    </tr>\n",
       "  </thead>\n",
       "  <tbody>\n",
       "    <tr>\n",
       "      <th>0</th>\n",
       "      <td>2015150483</td>\n",
       "      <td>Austin, TX</td>\n",
       "      <td>None</td>\n",
       "      <td>2015-01-27 00:00:00+00:00</td>\n",
       "      <td>Not cleared</td>\n",
       "      <td>None</td>\n",
       "      <td>RAPE</td>\n",
       "      <td>B</td>\n",
       "      <td>None</td>\n",
       "      <td>None</td>\n",
       "      <td>None</td>\n",
       "      <td>None</td>\n",
       "      <td>Rape</td>\n",
       "      <td>2015-01-15 00:00:00+00:00</td>\n",
       "      <td>None</td>\n",
       "      <td>None</td>\n",
       "      <td>2015</td>\n",
       "      <td>None</td>\n",
       "    </tr>\n",
       "    <tr>\n",
       "      <th>1</th>\n",
       "      <td>20151542027</td>\n",
       "      <td>Austin, TX</td>\n",
       "      <td>None</td>\n",
       "      <td>2015-07-24 00:00:00+00:00</td>\n",
       "      <td>Not cleared</td>\n",
       "      <td>None</td>\n",
       "      <td>RAPE</td>\n",
       "      <td>D</td>\n",
       "      <td>None</td>\n",
       "      <td>None</td>\n",
       "      <td>None</td>\n",
       "      <td>None</td>\n",
       "      <td>Rape</td>\n",
       "      <td>2015-06-03 00:00:00+00:00</td>\n",
       "      <td>None</td>\n",
       "      <td>None</td>\n",
       "      <td>2015</td>\n",
       "      <td>None</td>\n",
       "    </tr>\n",
       "    <tr>\n",
       "      <th>2</th>\n",
       "      <td>20152001758</td>\n",
       "      <td>Austin, TX</td>\n",
       "      <td>None</td>\n",
       "      <td>2015-08-15 00:00:00+00:00</td>\n",
       "      <td>Not cleared</td>\n",
       "      <td>None</td>\n",
       "      <td>RAPE</td>\n",
       "      <td>F</td>\n",
       "      <td>None</td>\n",
       "      <td>None</td>\n",
       "      <td>None</td>\n",
       "      <td>None</td>\n",
       "      <td>Rape</td>\n",
       "      <td>2015-07-19 00:00:00+00:00</td>\n",
       "      <td>None</td>\n",
       "      <td>None</td>\n",
       "      <td>2015</td>\n",
       "      <td>None</td>\n",
       "    </tr>\n",
       "    <tr>\n",
       "      <th>3</th>\n",
       "      <td>20151340282</td>\n",
       "      <td>Austin, TX</td>\n",
       "      <td>None</td>\n",
       "      <td>2015-06-15 00:00:00+00:00</td>\n",
       "      <td>Cleared by Exception</td>\n",
       "      <td>None</td>\n",
       "      <td>RAPE</td>\n",
       "      <td>UK</td>\n",
       "      <td>None</td>\n",
       "      <td>None</td>\n",
       "      <td>None</td>\n",
       "      <td>None</td>\n",
       "      <td>Rape</td>\n",
       "      <td>2015-05-14 00:00:00+00:00</td>\n",
       "      <td>None</td>\n",
       "      <td>None</td>\n",
       "      <td>2015</td>\n",
       "      <td>None</td>\n",
       "    </tr>\n",
       "    <tr>\n",
       "      <th>4</th>\n",
       "      <td>20151871268</td>\n",
       "      <td>Austin, TX</td>\n",
       "      <td>None</td>\n",
       "      <td>2015-10-27 00:00:00+00:00</td>\n",
       "      <td>Not cleared</td>\n",
       "      <td>None</td>\n",
       "      <td>RAPE</td>\n",
       "      <td>UK</td>\n",
       "      <td>None</td>\n",
       "      <td>None</td>\n",
       "      <td>None</td>\n",
       "      <td>None</td>\n",
       "      <td>Rape</td>\n",
       "      <td>2015-07-06 00:00:00+00:00</td>\n",
       "      <td>None</td>\n",
       "      <td>None</td>\n",
       "      <td>2015</td>\n",
       "      <td>None</td>\n",
       "    </tr>\n",
       "  </tbody>\n",
       "</table>\n",
       "</div>"
      ],
      "text/plain": [
       "    unique_key     address census_tract            clearance_date  \\\n",
       "0   2015150483  Austin, TX         None 2015-01-27 00:00:00+00:00   \n",
       "1  20151542027  Austin, TX         None 2015-07-24 00:00:00+00:00   \n",
       "2  20152001758  Austin, TX         None 2015-08-15 00:00:00+00:00   \n",
       "3  20151340282  Austin, TX         None 2015-06-15 00:00:00+00:00   \n",
       "4  20151871268  Austin, TX         None 2015-10-27 00:00:00+00:00   \n",
       "\n",
       "       clearance_status council_district_code                     description  \\\n",
       "0           Not cleared                  None  RAPE                             \n",
       "1           Not cleared                  None  RAPE                             \n",
       "2           Not cleared                  None  RAPE                             \n",
       "3  Cleared by Exception                  None  RAPE                             \n",
       "4           Not cleared                  None  RAPE                             \n",
       "\n",
       "  district latitude longitude location location_description primary_type  \\\n",
       "0        B     None      None     None                 None         Rape   \n",
       "1        D     None      None     None                 None         Rape   \n",
       "2        F     None      None     None                 None         Rape   \n",
       "3       UK     None      None     None                 None         Rape   \n",
       "4       UK     None      None     None                 None         Rape   \n",
       "\n",
       "                  timestamp x_coordinate y_coordinate  year zipcode  \n",
       "0 2015-01-15 00:00:00+00:00         None         None  2015    None  \n",
       "1 2015-06-03 00:00:00+00:00         None         None  2015    None  \n",
       "2 2015-07-19 00:00:00+00:00         None         None  2015    None  \n",
       "3 2015-05-14 00:00:00+00:00         None         None  2015    None  \n",
       "4 2015-07-06 00:00:00+00:00         None         None  2015    None  "
      ]
     },
     "execution_count": 24,
     "metadata": {},
     "output_type": "execute_result"
    }
   ],
   "source": [
    "client.list_rows(table, max_results=5).to_dataframe()"
   ]
  },
  {
   "cell_type": "markdown",
   "metadata": {},
   "source": [
    "# Getting the dataset."
   ]
  },
  {
   "cell_type": "code",
   "execution_count": 79,
   "metadata": {},
   "outputs": [],
   "source": [
    "query_job = client.query(query)  # Make an API request."
   ]
  },
  {
   "cell_type": "code",
   "execution_count": 78,
   "metadata": {},
   "outputs": [
    {
     "data": {
      "text/html": [
       "<div>\n",
       "<style scoped>\n",
       "    .dataframe tbody tr th:only-of-type {\n",
       "        vertical-align: middle;\n",
       "    }\n",
       "\n",
       "    .dataframe tbody tr th {\n",
       "        vertical-align: top;\n",
       "    }\n",
       "\n",
       "    .dataframe thead th {\n",
       "        text-align: right;\n",
       "    }\n",
       "</style>\n",
       "<table border=\"1\" class=\"dataframe\">\n",
       "  <thead>\n",
       "    <tr style=\"text-align: right;\">\n",
       "      <th></th>\n",
       "      <th>primary_type</th>\n",
       "      <th>time</th>\n",
       "      <th>clr</th>\n",
       "      <th>location</th>\n",
       "      <th>zipcode</th>\n",
       "      <th>year</th>\n",
       "    </tr>\n",
       "  </thead>\n",
       "  <tbody>\n",
       "    <tr>\n",
       "      <th>0</th>\n",
       "      <td>Theft: All Other Larceny</td>\n",
       "      <td>2014-01-01 00:00:00+00:00</td>\n",
       "      <td>Not cleared</td>\n",
       "      <td>(30.293954,-97.734204)</td>\n",
       "      <td>78705</td>\n",
       "      <td>2014</td>\n",
       "    </tr>\n",
       "    <tr>\n",
       "      <th>1</th>\n",
       "      <td>Aggravated Assault</td>\n",
       "      <td>2014-01-01 00:00:00+00:00</td>\n",
       "      <td>Not cleared</td>\n",
       "      <td>(30.276405,-97.733982)</td>\n",
       "      <td>78701</td>\n",
       "      <td>2014</td>\n",
       "    </tr>\n",
       "    <tr>\n",
       "      <th>2</th>\n",
       "      <td>Robbery</td>\n",
       "      <td>2014-01-01 00:00:00+00:00</td>\n",
       "      <td>Cleared by Exception</td>\n",
       "      <td>None</td>\n",
       "      <td>78701</td>\n",
       "      <td>2014</td>\n",
       "    </tr>\n",
       "    <tr>\n",
       "      <th>3</th>\n",
       "      <td>Robbery</td>\n",
       "      <td>2014-01-01 00:00:00+00:00</td>\n",
       "      <td>Not cleared</td>\n",
       "      <td>None</td>\n",
       "      <td>78703</td>\n",
       "      <td>2014</td>\n",
       "    </tr>\n",
       "    <tr>\n",
       "      <th>4</th>\n",
       "      <td>Theft: All Other Larceny</td>\n",
       "      <td>2014-01-01 00:00:00+00:00</td>\n",
       "      <td>Not cleared</td>\n",
       "      <td>(30.26716,-97.739585)</td>\n",
       "      <td>78701</td>\n",
       "      <td>2014</td>\n",
       "    </tr>\n",
       "  </tbody>\n",
       "</table>\n",
       "</div>"
      ],
      "text/plain": [
       "               primary_type                      time                   clr  \\\n",
       "0  Theft: All Other Larceny 2014-01-01 00:00:00+00:00           Not cleared   \n",
       "1        Aggravated Assault 2014-01-01 00:00:00+00:00           Not cleared   \n",
       "2                   Robbery 2014-01-01 00:00:00+00:00  Cleared by Exception   \n",
       "3                   Robbery 2014-01-01 00:00:00+00:00           Not cleared   \n",
       "4  Theft: All Other Larceny 2014-01-01 00:00:00+00:00           Not cleared   \n",
       "\n",
       "                 location zipcode  year  \n",
       "0  (30.293954,-97.734204)   78705  2014  \n",
       "1  (30.276405,-97.733982)   78701  2014  \n",
       "2                    None   78701  2014  \n",
       "3                    None   78703  2014  \n",
       "4   (30.26716,-97.739585)   78701  2014  "
      ]
     },
     "execution_count": 78,
     "metadata": {},
     "output_type": "execute_result"
    }
   ],
   "source": [
    "df_data = query_job.to_dataframe()\n",
    "df_data.head()"
   ]
  },
  {
   "cell_type": "code",
   "execution_count": 84,
   "metadata": {},
   "outputs": [
    {
     "data": {
      "text/html": [
       "<div>\n",
       "<style scoped>\n",
       "    .dataframe tbody tr th:only-of-type {\n",
       "        vertical-align: middle;\n",
       "    }\n",
       "\n",
       "    .dataframe tbody tr th {\n",
       "        vertical-align: top;\n",
       "    }\n",
       "\n",
       "    .dataframe thead th {\n",
       "        text-align: right;\n",
       "    }\n",
       "</style>\n",
       "<table border=\"1\" class=\"dataframe\">\n",
       "  <thead>\n",
       "    <tr style=\"text-align: right;\">\n",
       "      <th></th>\n",
       "      <th>year</th>\n",
       "    </tr>\n",
       "  </thead>\n",
       "  <tbody>\n",
       "    <tr>\n",
       "      <th>count</th>\n",
       "      <td>116675.000000</td>\n",
       "    </tr>\n",
       "    <tr>\n",
       "      <th>mean</th>\n",
       "      <td>2014.972745</td>\n",
       "    </tr>\n",
       "    <tr>\n",
       "      <th>std</th>\n",
       "      <td>0.817717</td>\n",
       "    </tr>\n",
       "    <tr>\n",
       "      <th>min</th>\n",
       "      <td>2014.000000</td>\n",
       "    </tr>\n",
       "    <tr>\n",
       "      <th>25%</th>\n",
       "      <td>2014.000000</td>\n",
       "    </tr>\n",
       "    <tr>\n",
       "      <th>50%</th>\n",
       "      <td>2015.000000</td>\n",
       "    </tr>\n",
       "    <tr>\n",
       "      <th>75%</th>\n",
       "      <td>2016.000000</td>\n",
       "    </tr>\n",
       "    <tr>\n",
       "      <th>max</th>\n",
       "      <td>2016.000000</td>\n",
       "    </tr>\n",
       "  </tbody>\n",
       "</table>\n",
       "</div>"
      ],
      "text/plain": [
       "                year\n",
       "count  116675.000000\n",
       "mean     2014.972745\n",
       "std         0.817717\n",
       "min      2014.000000\n",
       "25%      2014.000000\n",
       "50%      2015.000000\n",
       "75%      2016.000000\n",
       "max      2016.000000"
      ]
     },
     "execution_count": 84,
     "metadata": {},
     "output_type": "execute_result"
    }
   ],
   "source": [
    "df_data.describe()"
   ]
  },
  {
   "cell_type": "code",
   "execution_count": 96,
   "metadata": {},
   "outputs": [],
   "source": [
    "df_zip = df_data.zipcode[pd.isnull(df_data.zipcode)==False]"
   ]
  },
  {
   "cell_type": "code",
   "execution_count": 114,
   "metadata": {},
   "outputs": [],
   "source": [
    "df_zip = df_zip.astype('int32');"
   ]
  },
  {
   "cell_type": "code",
   "execution_count": 153,
   "metadata": {},
   "outputs": [
    {
     "data": {
      "text/plain": [
       "<matplotlib.axes._subplots.AxesSubplot at 0x1aa8417dd0>"
      ]
     },
     "execution_count": 153,
     "metadata": {},
     "output_type": "execute_result"
    },
    {
     "data": {
      "image/png": "[encoded data removed]",
      "text/plain": [
       "<Figure size 432x288 with 1 Axes>"
      ]
     },
     "metadata": {
      "needs_background": "light"
     },
     "output_type": "display_data"
    }
   ],
   "source": [
    "df_zip.hist(bins = 100)"
   ]
  },
  {
   "cell_type": "code",
   "execution_count": 159,
   "metadata": {},
   "outputs": [
    {
     "data": {
      "text/plain": [
       "78610"
      ]
     },
     "execution_count": 159,
     "metadata": {},
     "output_type": "execute_result"
    }
   ],
   "source": [
    "df_zip.min()"
   ]
  },
  {
   "cell_type": "code",
   "execution_count": null,
   "metadata": {},
   "outputs": [],
   "source": []
  }
 ],
 "metadata": {
  "kernelspec": {
   "display_name": "Python 3",
   "language": "python",
   "name": "python3"
  },
  "language_info": {
   "codemirror_mode": {
    "name": "ipython",
    "version": 3
   },
   "file_extension": ".py",
   "mimetype": "text/x-python",
   "name": "python",
   "nbconvert_exporter": "python",
   "pygments_lexer": "ipython3",
   "version": "3.7.6"
  }
 },
 "nbformat": 4,
 "nbformat_minor": 4
}
